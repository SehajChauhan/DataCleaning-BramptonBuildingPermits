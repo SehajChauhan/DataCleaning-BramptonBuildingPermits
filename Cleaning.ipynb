{
 "cells": [
  {
   "cell_type": "markdown",
   "metadata": {},
   "source": [
    "### Import libraries"
   ]
  },
  {
   "cell_type": "code",
   "execution_count": 3,
   "metadata": {},
   "outputs": [],
   "source": [
    "import pandas as pd\n",
    "import missingno"
   ]
  },
  {
   "cell_type": "markdown",
   "metadata": {},
   "source": [
    "### Import Dataset"
   ]
  },
  {
   "cell_type": "code",
   "execution_count": 4,
   "metadata": {},
   "outputs": [
    {
     "data": {
      "text/html": [
       "<div>\n",
       "<style scoped>\n",
       "    .dataframe tbody tr th:only-of-type {\n",
       "        vertical-align: middle;\n",
       "    }\n",
       "\n",
       "    .dataframe tbody tr th {\n",
       "        vertical-align: top;\n",
       "    }\n",
       "\n",
       "    .dataframe thead th {\n",
       "        text-align: right;\n",
       "    }\n",
       "</style>\n",
       "<table border=\"1\" class=\"dataframe\">\n",
       "  <thead>\n",
       "    <tr style=\"text-align: right;\">\n",
       "      <th></th>\n",
       "      <th>X</th>\n",
       "      <th>Y</th>\n",
       "      <th>GIS_ID</th>\n",
       "      <th>ADDRESS</th>\n",
       "      <th>PERMITNUMBER</th>\n",
       "      <th>SUBDESC</th>\n",
       "      <th>WORKDESC</th>\n",
       "      <th>ISSUEDATE</th>\n",
       "      <th>INDATE</th>\n",
       "      <th>STATUSDESC</th>\n",
       "      <th>PROCESSDATE</th>\n",
       "      <th>BUILDER</th>\n",
       "      <th>CONTRACTOR</th>\n",
       "      <th>EXPIRYDATE</th>\n",
       "      <th>GFA</th>\n",
       "      <th>SECOND_UNIT</th>\n",
       "      <th>BEDROOMS</th>\n",
       "      <th>STOREYS</th>\n",
       "      <th>DWELLINGS</th>\n",
       "    </tr>\n",
       "  </thead>\n",
       "  <tbody>\n",
       "    <tr>\n",
       "      <td>0</td>\n",
       "      <td>-79.820498</td>\n",
       "      <td>43.689158</td>\n",
       "      <td>100753</td>\n",
       "      <td>137 Fairhill Ave, Brampton, ON,</td>\n",
       "      <td>01-121747-000-00</td>\n",
       "      <td>Single Family Detached</td>\n",
       "      <td>New Complete Building</td>\n",
       "      <td>2001-12-13T05:00:00.000Z</td>\n",
       "      <td>2001-11-30T05:00:00.000Z</td>\n",
       "      <td>Closed</td>\n",
       "      <td>NaN</td>\n",
       "      <td>BAYCLIFFE HOMES</td>\n",
       "      <td>1113669 ONTARIO LIMITED</td>\n",
       "      <td>NaN</td>\n",
       "      <td>216.27</td>\n",
       "      <td>NaN</td>\n",
       "      <td>NaN</td>\n",
       "      <td>NaN</td>\n",
       "      <td>1.0</td>\n",
       "    </tr>\n",
       "    <tr>\n",
       "      <td>1</td>\n",
       "      <td>-79.820524</td>\n",
       "      <td>43.689064</td>\n",
       "      <td>100754</td>\n",
       "      <td>135 Fairhill Ave, Brampton, ON,</td>\n",
       "      <td>01-120328-000-00</td>\n",
       "      <td>Single Family Detached</td>\n",
       "      <td>New Complete Building</td>\n",
       "      <td>2001-12-07T05:00:00.000Z</td>\n",
       "      <td>2001-10-10T04:00:00.000Z</td>\n",
       "      <td>Closed</td>\n",
       "      <td>NaN</td>\n",
       "      <td>BAYCLIFFE HOMES</td>\n",
       "      <td>1113669 ONTARIO LIMITED</td>\n",
       "      <td>NaN</td>\n",
       "      <td>202.89</td>\n",
       "      <td>NaN</td>\n",
       "      <td>NaN</td>\n",
       "      <td>NaN</td>\n",
       "      <td>1.0</td>\n",
       "    </tr>\n",
       "    <tr>\n",
       "      <td>2</td>\n",
       "      <td>-79.820531</td>\n",
       "      <td>43.688958</td>\n",
       "      <td>100755</td>\n",
       "      <td>133 Fairhill Ave, Brampton, ON,</td>\n",
       "      <td>01-120329-000-00</td>\n",
       "      <td>Single Family Detached</td>\n",
       "      <td>New Complete Building</td>\n",
       "      <td>2001-12-07T05:00:00.000Z</td>\n",
       "      <td>2001-10-10T04:00:00.000Z</td>\n",
       "      <td>Closed</td>\n",
       "      <td>NaN</td>\n",
       "      <td>BAYCLIFFE HOMES</td>\n",
       "      <td>1113669 ONTARIO LIMITED</td>\n",
       "      <td>NaN</td>\n",
       "      <td>197.78</td>\n",
       "      <td>NaN</td>\n",
       "      <td>NaN</td>\n",
       "      <td>NaN</td>\n",
       "      <td>1.0</td>\n",
       "    </tr>\n",
       "    <tr>\n",
       "      <td>3</td>\n",
       "      <td>-79.820545</td>\n",
       "      <td>43.688867</td>\n",
       "      <td>100756</td>\n",
       "      <td>131 Fairhill Ave, Brampton, ON,</td>\n",
       "      <td>02-126584-000-00</td>\n",
       "      <td>Single Family Detached</td>\n",
       "      <td>New Complete Building</td>\n",
       "      <td>2002-06-20T04:00:00.000Z</td>\n",
       "      <td>2002-05-30T04:00:00.000Z</td>\n",
       "      <td>Closed</td>\n",
       "      <td>NaN</td>\n",
       "      <td>BAYCLIFFE HOMES</td>\n",
       "      <td>1113669 ONTARIO LIMITED</td>\n",
       "      <td>NaN</td>\n",
       "      <td>127.55</td>\n",
       "      <td>NaN</td>\n",
       "      <td>NaN</td>\n",
       "      <td>NaN</td>\n",
       "      <td>1.0</td>\n",
       "    </tr>\n",
       "    <tr>\n",
       "      <td>4</td>\n",
       "      <td>-79.820545</td>\n",
       "      <td>43.688867</td>\n",
       "      <td>100756</td>\n",
       "      <td>131 Fairhill Ave, Brampton, ON,</td>\n",
       "      <td>03-143093-000-00</td>\n",
       "      <td>Single Family Detached</td>\n",
       "      <td>Revision</td>\n",
       "      <td>2003-04-04T04:00:00.000Z</td>\n",
       "      <td>2003-04-03T04:00:00.000Z</td>\n",
       "      <td>Closed</td>\n",
       "      <td>NaN</td>\n",
       "      <td>NaN</td>\n",
       "      <td>NaN</td>\n",
       "      <td>NaN</td>\n",
       "      <td>NaN</td>\n",
       "      <td>NaN</td>\n",
       "      <td>NaN</td>\n",
       "      <td>NaN</td>\n",
       "      <td>NaN</td>\n",
       "    </tr>\n",
       "  </tbody>\n",
       "</table>\n",
       "</div>"
      ],
      "text/plain": [
       "           X          Y  GIS_ID                           ADDRESS  \\\n",
       "0 -79.820498  43.689158  100753  137 Fairhill Ave, Brampton, ON,    \n",
       "1 -79.820524  43.689064  100754  135 Fairhill Ave, Brampton, ON,    \n",
       "2 -79.820531  43.688958  100755  133 Fairhill Ave, Brampton, ON,    \n",
       "3 -79.820545  43.688867  100756  131 Fairhill Ave, Brampton, ON,    \n",
       "4 -79.820545  43.688867  100756  131 Fairhill Ave, Brampton, ON,    \n",
       "\n",
       "       PERMITNUMBER                 SUBDESC               WORKDESC  \\\n",
       "0  01-121747-000-00  Single Family Detached  New Complete Building   \n",
       "1  01-120328-000-00  Single Family Detached  New Complete Building   \n",
       "2  01-120329-000-00  Single Family Detached  New Complete Building   \n",
       "3  02-126584-000-00  Single Family Detached  New Complete Building   \n",
       "4  03-143093-000-00  Single Family Detached               Revision   \n",
       "\n",
       "                  ISSUEDATE                    INDATE STATUSDESC PROCESSDATE  \\\n",
       "0  2001-12-13T05:00:00.000Z  2001-11-30T05:00:00.000Z     Closed         NaN   \n",
       "1  2001-12-07T05:00:00.000Z  2001-10-10T04:00:00.000Z     Closed         NaN   \n",
       "2  2001-12-07T05:00:00.000Z  2001-10-10T04:00:00.000Z     Closed         NaN   \n",
       "3  2002-06-20T04:00:00.000Z  2002-05-30T04:00:00.000Z     Closed         NaN   \n",
       "4  2003-04-04T04:00:00.000Z  2003-04-03T04:00:00.000Z     Closed         NaN   \n",
       "\n",
       "           BUILDER                CONTRACTOR EXPIRYDATE     GFA SECOND_UNIT  \\\n",
       "0  BAYCLIFFE HOMES  1113669 ONTARIO LIMITED         NaN  216.27         NaN   \n",
       "1  BAYCLIFFE HOMES  1113669 ONTARIO LIMITED         NaN  202.89         NaN   \n",
       "2  BAYCLIFFE HOMES  1113669 ONTARIO LIMITED         NaN  197.78         NaN   \n",
       "3  BAYCLIFFE HOMES  1113669 ONTARIO LIMITED         NaN  127.55         NaN   \n",
       "4              NaN                       NaN        NaN     NaN         NaN   \n",
       "\n",
       "  BEDROOMS STOREYS  DWELLINGS  \n",
       "0      NaN     NaN        1.0  \n",
       "1      NaN     NaN        1.0  \n",
       "2      NaN     NaN        1.0  \n",
       "3      NaN     NaN        1.0  \n",
       "4      NaN     NaN        NaN  "
      ]
     },
     "execution_count": 4,
     "metadata": {},
     "output_type": "execute_result"
    }
   ],
   "source": [
    "df = pd.read_csv('BuildingPermitsBrampton.csv')\n",
    "df.head(5)"
   ]
  },
  {
   "cell_type": "markdown",
   "metadata": {},
   "source": [
    "### Basic Analysis"
   ]
  },
  {
   "cell_type": "code",
   "execution_count": 6,
   "metadata": {},
   "outputs": [
    {
     "data": {
      "text/plain": [
       "(162935, 19)"
      ]
     },
     "execution_count": 6,
     "metadata": {},
     "output_type": "execute_result"
    }
   ],
   "source": [
    "#Number of rows and columns in the dataframe\n",
    "df.shape"
   ]
  },
  {
   "cell_type": "code",
   "execution_count": 8,
   "metadata": {},
   "outputs": [
    {
     "data": {
      "text/plain": [
       "X               float64\n",
       "Y               float64\n",
       "GIS_ID            int64\n",
       "ADDRESS          object\n",
       "PERMITNUMBER     object\n",
       "SUBDESC          object\n",
       "WORKDESC         object\n",
       "ISSUEDATE        object\n",
       "INDATE           object\n",
       "STATUSDESC       object\n",
       "PROCESSDATE      object\n",
       "BUILDER          object\n",
       "CONTRACTOR       object\n",
       "EXPIRYDATE       object\n",
       "GFA             float64\n",
       "SECOND_UNIT      object\n",
       "BEDROOMS         object\n",
       "STOREYS          object\n",
       "DWELLINGS       float64\n",
       "dtype: object"
      ]
     },
     "execution_count": 8,
     "metadata": {},
     "output_type": "execute_result"
    }
   ],
   "source": [
    "#Data types of each column\n",
    "df.dtypes"
   ]
  },
  {
   "cell_type": "code",
   "execution_count": 7,
   "metadata": {},
   "outputs": [
    {
     "data": {
      "text/plain": [
       "X                    0\n",
       "Y                    0\n",
       "GIS_ID               0\n",
       "ADDRESS              4\n",
       "PERMITNUMBER         0\n",
       "SUBDESC          26515\n",
       "WORKDESC         26515\n",
       "ISSUEDATE        33757\n",
       "INDATE           26527\n",
       "STATUSDESC       26515\n",
       "PROCESSDATE     134177\n",
       "BUILDER          92750\n",
       "CONTRACTOR       92047\n",
       "EXPIRYDATE      162227\n",
       "GFA              85192\n",
       "SECOND_UNIT     156965\n",
       "BEDROOMS        113383\n",
       "STOREYS         115324\n",
       "DWELLINGS        81832\n",
       "dtype: int64"
      ]
     },
     "execution_count": 7,
     "metadata": {},
     "output_type": "execute_result"
    }
   ],
   "source": [
    "#number of missing values in each column\n",
    "df.isnull().sum()"
   ]
  },
  {
   "cell_type": "code",
   "execution_count": 9,
   "metadata": {},
   "outputs": [
    {
     "data": {
      "text/plain": [
       "<matplotlib.axes._subplots.AxesSubplot at 0x19cabe34a88>"
      ]
     },
     "execution_count": 9,
     "metadata": {},
     "output_type": "execute_result"
    },
    {
     "data": {
      "image/png": "[encoded data removed]",
      "text/plain": [
       "<Figure size 2160x720 with 2 Axes>"
      ]
     },
     "metadata": {
      "needs_background": "light"
     },
     "output_type": "display_data"
    }
   ],
   "source": [
    "#graphical representation of the missing values in the dataframe\n",
    "missingno.matrix(df, figsize = (30,10))"
   ]
  },
  {
   "cell_type": "code",
   "execution_count": 10,
   "metadata": {},
   "outputs": [
    {
     "name": "stdout",
     "output_type": "stream",
     "text": [
      "['X', 'Y', 'GIS_ID', 'ADDRESS', 'PERMITNUMBER', 'SUBDESC', 'WORKDESC', 'ISSUEDATE', 'INDATE', 'STATUSDESC', 'PROCESSDATE', 'BUILDER', 'CONTRACTOR', 'EXPIRYDATE', 'GFA', 'SECOND_UNIT', 'BEDROOMS', 'STOREYS', 'DWELLINGS']\n"
     ]
    }
   ],
   "source": [
    "#Name of all columns\n",
    "cols = list(df.columns.values)\n",
    "print (cols)"
   ]
  },
  {
   "cell_type": "markdown",
   "metadata": {},
   "source": [
    "### Data Cleaning"
   ]
  },
  {
   "cell_type": "code",
   "execution_count": 11,
   "metadata": {},
   "outputs": [],
   "source": [
    "#Removing the rows in which all the necessary columns are missing values\n",
    "df = df.dropna(subset=['SUBDESC', 'WORKDESC', 'STATUSDESC', 'ISSUEDATE', 'INDATE', 'BUILDER','CONTRACTOR'], how='all')"
   ]
  },
  {
   "cell_type": "code",
   "execution_count": 12,
   "metadata": {},
   "outputs": [],
   "source": [
    "#Removing the rows in which the permit has no description of the work done\n",
    "df = df.dropna(subset=['SUBDESC', 'WORKDESC'], how='all')"
   ]
  },
  {
   "cell_type": "code",
   "execution_count": 13,
   "metadata": {},
   "outputs": [],
   "source": [
    "#Removing the rows in which the permit has no date\n",
    "df = df.dropna(subset=['ISSUEDATE', 'INDATE'], how='all')"
   ]
  },
  {
   "cell_type": "code",
   "execution_count": 14,
   "metadata": {},
   "outputs": [
    {
     "data": {
      "text/html": [
       "<div>\n",
       "<style scoped>\n",
       "    .dataframe tbody tr th:only-of-type {\n",
       "        vertical-align: middle;\n",
       "    }\n",
       "\n",
       "    .dataframe tbody tr th {\n",
       "        vertical-align: top;\n",
       "    }\n",
       "\n",
       "    .dataframe thead th {\n",
       "        text-align: right;\n",
       "    }\n",
       "</style>\n",
       "<table border=\"1\" class=\"dataframe\">\n",
       "  <thead>\n",
       "    <tr style=\"text-align: right;\">\n",
       "      <th></th>\n",
       "      <th>PERMITNUMBER</th>\n",
       "      <th>ADDRESS</th>\n",
       "      <th>SUBDESC</th>\n",
       "      <th>WORKDESC</th>\n",
       "      <th>STATUSDESC</th>\n",
       "      <th>ISSUEDATE</th>\n",
       "      <th>INDATE</th>\n",
       "      <th>BUILDER</th>\n",
       "      <th>CONTRACTOR</th>\n",
       "      <th>X</th>\n",
       "      <th>Y</th>\n",
       "      <th>GIS_ID</th>\n",
       "    </tr>\n",
       "  </thead>\n",
       "  <tbody>\n",
       "    <tr>\n",
       "      <td>0</td>\n",
       "      <td>01-121747-000-00</td>\n",
       "      <td>137 Fairhill Ave, Brampton, ON,</td>\n",
       "      <td>Single Family Detached</td>\n",
       "      <td>New Complete Building</td>\n",
       "      <td>Closed</td>\n",
       "      <td>2001-12-13T05:00:00.000Z</td>\n",
       "      <td>2001-11-30T05:00:00.000Z</td>\n",
       "      <td>BAYCLIFFE HOMES</td>\n",
       "      <td>1113669 ONTARIO LIMITED</td>\n",
       "      <td>-79.820498</td>\n",
       "      <td>43.689158</td>\n",
       "      <td>100753</td>\n",
       "    </tr>\n",
       "    <tr>\n",
       "      <td>1</td>\n",
       "      <td>01-120328-000-00</td>\n",
       "      <td>135 Fairhill Ave, Brampton, ON,</td>\n",
       "      <td>Single Family Detached</td>\n",
       "      <td>New Complete Building</td>\n",
       "      <td>Closed</td>\n",
       "      <td>2001-12-07T05:00:00.000Z</td>\n",
       "      <td>2001-10-10T04:00:00.000Z</td>\n",
       "      <td>BAYCLIFFE HOMES</td>\n",
       "      <td>1113669 ONTARIO LIMITED</td>\n",
       "      <td>-79.820524</td>\n",
       "      <td>43.689064</td>\n",
       "      <td>100754</td>\n",
       "    </tr>\n",
       "    <tr>\n",
       "      <td>2</td>\n",
       "      <td>01-120329-000-00</td>\n",
       "      <td>133 Fairhill Ave, Brampton, ON,</td>\n",
       "      <td>Single Family Detached</td>\n",
       "      <td>New Complete Building</td>\n",
       "      <td>Closed</td>\n",
       "      <td>2001-12-07T05:00:00.000Z</td>\n",
       "      <td>2001-10-10T04:00:00.000Z</td>\n",
       "      <td>BAYCLIFFE HOMES</td>\n",
       "      <td>1113669 ONTARIO LIMITED</td>\n",
       "      <td>-79.820531</td>\n",
       "      <td>43.688958</td>\n",
       "      <td>100755</td>\n",
       "    </tr>\n",
       "    <tr>\n",
       "      <td>3</td>\n",
       "      <td>02-126584-000-00</td>\n",
       "      <td>131 Fairhill Ave, Brampton, ON,</td>\n",
       "      <td>Single Family Detached</td>\n",
       "      <td>New Complete Building</td>\n",
       "      <td>Closed</td>\n",
       "      <td>2002-06-20T04:00:00.000Z</td>\n",
       "      <td>2002-05-30T04:00:00.000Z</td>\n",
       "      <td>BAYCLIFFE HOMES</td>\n",
       "      <td>1113669 ONTARIO LIMITED</td>\n",
       "      <td>-79.820545</td>\n",
       "      <td>43.688867</td>\n",
       "      <td>100756</td>\n",
       "    </tr>\n",
       "    <tr>\n",
       "      <td>4</td>\n",
       "      <td>03-143093-000-00</td>\n",
       "      <td>131 Fairhill Ave, Brampton, ON,</td>\n",
       "      <td>Single Family Detached</td>\n",
       "      <td>Revision</td>\n",
       "      <td>Closed</td>\n",
       "      <td>2003-04-04T04:00:00.000Z</td>\n",
       "      <td>2003-04-03T04:00:00.000Z</td>\n",
       "      <td>NaN</td>\n",
       "      <td>NaN</td>\n",
       "      <td>-79.820545</td>\n",
       "      <td>43.688867</td>\n",
       "      <td>100756</td>\n",
       "    </tr>\n",
       "  </tbody>\n",
       "</table>\n",
       "</div>"
      ],
      "text/plain": [
       "       PERMITNUMBER                           ADDRESS                 SUBDESC  \\\n",
       "0  01-121747-000-00  137 Fairhill Ave, Brampton, ON,   Single Family Detached   \n",
       "1  01-120328-000-00  135 Fairhill Ave, Brampton, ON,   Single Family Detached   \n",
       "2  01-120329-000-00  133 Fairhill Ave, Brampton, ON,   Single Family Detached   \n",
       "3  02-126584-000-00  131 Fairhill Ave, Brampton, ON,   Single Family Detached   \n",
       "4  03-143093-000-00  131 Fairhill Ave, Brampton, ON,   Single Family Detached   \n",
       "\n",
       "                WORKDESC STATUSDESC                 ISSUEDATE  \\\n",
       "0  New Complete Building     Closed  2001-12-13T05:00:00.000Z   \n",
       "1  New Complete Building     Closed  2001-12-07T05:00:00.000Z   \n",
       "2  New Complete Building     Closed  2001-12-07T05:00:00.000Z   \n",
       "3  New Complete Building     Closed  2002-06-20T04:00:00.000Z   \n",
       "4               Revision     Closed  2003-04-04T04:00:00.000Z   \n",
       "\n",
       "                     INDATE          BUILDER                CONTRACTOR  \\\n",
       "0  2001-11-30T05:00:00.000Z  BAYCLIFFE HOMES  1113669 ONTARIO LIMITED    \n",
       "1  2001-10-10T04:00:00.000Z  BAYCLIFFE HOMES  1113669 ONTARIO LIMITED    \n",
       "2  2001-10-10T04:00:00.000Z  BAYCLIFFE HOMES  1113669 ONTARIO LIMITED    \n",
       "3  2002-05-30T04:00:00.000Z  BAYCLIFFE HOMES  1113669 ONTARIO LIMITED    \n",
       "4  2003-04-03T04:00:00.000Z              NaN                       NaN   \n",
       "\n",
       "           X          Y  GIS_ID  \n",
       "0 -79.820498  43.689158  100753  \n",
       "1 -79.820524  43.689064  100754  \n",
       "2 -79.820531  43.688958  100755  \n",
       "3 -79.820545  43.688867  100756  \n",
       "4 -79.820545  43.688867  100756  "
      ]
     },
     "execution_count": 14,
     "metadata": {},
     "output_type": "execute_result"
    }
   ],
   "source": [
    "#Creating a new filtered dataframe by dropping columns which are missing too many values\n",
    "df = df[['PERMITNUMBER','ADDRESS', 'SUBDESC', 'WORKDESC', 'STATUSDESC', 'ISSUEDATE', 'INDATE', 'BUILDER', 'CONTRACTOR', 'X', 'Y', 'GIS_ID']]\n",
    "df.head()"
   ]
  },
  {
   "cell_type": "markdown",
   "metadata": {},
   "source": [
    "### Cleaning the Issuedate and Indate columns"
   ]
  },
  {
   "cell_type": "code",
   "execution_count": 15,
   "metadata": {},
   "outputs": [],
   "source": [
    "#changing the data type of the Issuedate to date-time\n",
    "#removing the time zone from the values\n",
    "df['ISSUEDATE'] = pd.to_datetime(df.ISSUEDATE)\n",
    "df['ISSUEDATE'] = df['ISSUEDATE'].dt.tz_convert(None)"
   ]
  },
  {
   "cell_type": "code",
   "execution_count": 16,
   "metadata": {},
   "outputs": [],
   "source": [
    "#changing the data type of the Indate to date-time\n",
    "#removing the time zone from the values\n",
    "df['INDATE'] = pd.to_datetime(df.INDATE)\n",
    "df['INDATE'] = df['INDATE'].dt.tz_convert(None)"
   ]
  },
  {
   "cell_type": "code",
   "execution_count": 17,
   "metadata": {},
   "outputs": [],
   "source": [
    "#Normalizing the Issuedate and Indate columns to only have date values and not time\n",
    "df['ISSUEDATE'] = pd.to_datetime(df['ISSUEDATE']).dt.normalize()\n",
    "df['INDATE'] = pd.to_datetime(df['INDATE']).dt.normalize()"
   ]
  },
  {
   "cell_type": "markdown",
   "metadata": {},
   "source": [
    "##### Filling missing values in the Issuedate column"
   ]
  },
  {
   "cell_type": "code",
   "execution_count": 18,
   "metadata": {},
   "outputs": [],
   "source": [
    "#Getting the time taken between permit applied and permit issued for all rows and storing in a temporary 'timetaken' column\n",
    "df['timetaken'] = (df['ISSUEDATE'] - df['INDATE']).dt.days"
   ]
  },
  {
   "cell_type": "code",
   "execution_count": 19,
   "metadata": {},
   "outputs": [
    {
     "data": {
      "text/plain": [
       "49"
      ]
     },
     "execution_count": 19,
     "metadata": {},
     "output_type": "execute_result"
    }
   ],
   "source": [
    "#Getting the average of timetaken, rounding it off\n",
    "round(df['timetaken'].mean())"
   ]
  },
  {
   "cell_type": "code",
   "execution_count": 20,
   "metadata": {},
   "outputs": [],
   "source": [
    "#Generating Issuedate values where missing by adding average time taken to Indate values\n",
    "df['ISSUEDATE'] = df['ISSUEDATE'].fillna(df['INDATE'] + pd.DateOffset(days=49))"
   ]
  },
  {
   "cell_type": "code",
   "execution_count": 21,
   "metadata": {},
   "outputs": [
    {
     "data": {
      "text/plain": [
       "<matplotlib.axes._subplots.AxesSubplot at 0x19cb085ae48>"
      ]
     },
     "execution_count": 21,
     "metadata": {},
     "output_type": "execute_result"
    },
    {
     "data": {
      "image/png": "[encoded data removed]",
      "text/plain": [
       "<Figure size 2160x720 with 2 Axes>"
      ]
     },
     "metadata": {
      "needs_background": "light"
     },
     "output_type": "display_data"
    }
   ],
   "source": [
    "#Issuedate and Indate columns cleaned\n",
    "missingno.matrix(df, figsize = (30,10))"
   ]
  },
  {
   "cell_type": "markdown",
   "metadata": {},
   "source": [
    "### Cleaning Contractor column"
   ]
  },
  {
   "cell_type": "code",
   "execution_count": 22,
   "metadata": {},
   "outputs": [],
   "source": [
    "#Fill name of builder in Contractor column where values are missing\n",
    "df['CONTRACTOR'] = df['CONTRACTOR'].fillna(df['BUILDER'])"
   ]
  },
  {
   "cell_type": "code",
   "execution_count": 23,
   "metadata": {},
   "outputs": [],
   "source": [
    "#We no longer need Builder and Timetaken columns so we drop them\n",
    "df = df.drop('BUILDER', 1)\n",
    "df = df.drop('timetaken', 1)"
   ]
  },
  {
   "cell_type": "code",
   "execution_count": 24,
   "metadata": {},
   "outputs": [
    {
     "data": {
      "text/plain": [
       "Two Unit Dwelling              6374\n",
       "Owner Occupied Property        5441\n",
       "Single Family Detached         5336\n",
       "Permanent                      4373\n",
       "Basement Finish                3886\n",
       "                               ... \n",
       "Pedestrian Bridge                 1\n",
       "Demolition Implosion              1\n",
       "A2: Post - Secondary School       1\n",
       "Recycling Centre                  1\n",
       "Class B-A Frame                   1\n",
       "Name: SUBDESC, Length: 138, dtype: int64"
      ]
     },
     "execution_count": 24,
     "metadata": {},
     "output_type": "execute_result"
    }
   ],
   "source": [
    "#Finding the Subdesc values that correspond to where the values are missing in the Contractor column\n",
    "(df[df['CONTRACTOR'].isnull()]['SUBDESC']).value_counts()"
   ]
  },
  {
   "cell_type": "code",
   "execution_count": 25,
   "metadata": {},
   "outputs": [
    {
     "data": {
      "text/plain": [
       "Alteration (Renovation)              18207\n",
       "New                                  10779\n",
       "Creating Second Unit                  6091\n",
       "Change of Use - Two Unit Dwelling     5620\n",
       "Revision                              5608\n",
       "Interior/Unit Finish                  2986\n",
       "Addition - Complete                   1643\n",
       "New Complete Building                 1346\n",
       "Wood                                   789\n",
       "Non Residential Demolition             587\n",
       "New Shell Building                     516\n",
       "Residential Demolition                 461\n",
       "Change of Use                          392\n",
       "Phased Permit                          323\n",
       "Wood and Chain Link                    105\n",
       "Chain Link                             103\n",
       "Foundation Only                         67\n",
       "Occupancy Permit only                   55\n",
       "Other                                   54\n",
       "Addition Shell                          50\n",
       "Wrought Iron                            31\n",
       "Model Suite/No Occupant                  7\n",
       "New Proposed Sign                        2\n",
       "New Complete Building/Custom             1\n",
       "Renewal                                  1\n",
       "Re-Siting                                1\n",
       "Name: WORKDESC, dtype: int64"
      ]
     },
     "execution_count": 25,
     "metadata": {},
     "output_type": "execute_result"
    }
   ],
   "source": [
    "#Finding the Workdesc values that correspond to where the values are missing in the Contractor column\n",
    "(df[df['CONTRACTOR'].isnull()]['WORKDESC']).value_counts()"
   ]
  },
  {
   "cell_type": "code",
   "execution_count": 26,
   "metadata": {},
   "outputs": [],
   "source": [
    "#Adding 'Self' in place of missing values based on Subdesc of work performed\n",
    "df.loc[(df['CONTRACTOR'].isnull()) & (df.SUBDESC.str.contains('Basement')), 'CONTRACTOR'] = 'Self'\n",
    "df.loc[(df['CONTRACTOR'].isnull()) & (df.SUBDESC.str.contains('Demolition')), 'CONTRACTOR'] = 'Self'\n",
    "df.loc[(df['CONTRACTOR'].isnull()) & (df.SUBDESC.str.contains('Use')), 'CONTRACTOR'] = 'Self'\n",
    "df.loc[(df['CONTRACTOR'].isnull()) & (df.SUBDESC.str.contains('Foundation')), 'CONTRACTOR'] = 'Self'\n",
    "df.loc[(df['CONTRACTOR'].isnull()) & (df.SUBDESC.str.contains('Other')), 'CONTRACTOR'] = 'Self'\n",
    "df.loc[(df['CONTRACTOR'].isnull()) & (df.SUBDESC.str.contains('Renewal')), 'CONTRACTOR'] = 'Self'\n",
    "df.loc[(df['CONTRACTOR'].isnull()) & (df.SUBDESC.str.contains('Finish')), 'CONTRACTOR'] = 'Self'\n",
    "df.loc[(df['CONTRACTOR'].isnull()) & (df.SUBDESC.str.contains('Owner')), 'CONTRACTOR'] = 'Self'\n",
    "df.loc[(df['CONTRACTOR'].isnull()) & (df.SUBDESC.str.contains('Retail')), 'CONTRACTOR'] = 'Self'\n",
    "df.loc[(df['CONTRACTOR'].isnull()) & (df.SUBDESC.str.contains('Residential')), 'CONTRACTOR'] = 'Self'\n",
    "df.loc[(df['CONTRACTOR'].isnull()) & (df.SUBDESC.str.contains('Industrial')), 'CONTRACTOR'] = 'Self'\n",
    "df.loc[(df['CONTRACTOR'].isnull()) & (df.SUBDESC.str.contains('Restaurant')), 'CONTRACTOR'] = 'Self'\n",
    "df.loc[(df['CONTRACTOR'].isnull()) & (df.SUBDESC.str.contains('Plumbing')), 'CONTRACTOR'] = 'Self'\n",
    "df.loc[(df['CONTRACTOR'].isnull()) & (df.SUBDESC.str.contains('Door')), 'CONTRACTOR'] = 'Self'\n",
    "df.loc[(df['CONTRACTOR'].isnull()) & (df.SUBDESC.str.contains('Entrance')), 'CONTRACTOR'] = 'Self'\n",
    "df.loc[(df['CONTRACTOR'].isnull()) & (df.SUBDESC.str.contains('Porch')), 'CONTRACTOR'] = 'Self'\n",
    "df.loc[(df['CONTRACTOR'].isnull()) & (df.SUBDESC.str.contains('Commercial')), 'CONTRACTOR'] = 'Self'\n",
    "df.loc[(df['CONTRACTOR'].isnull()) & (df.SUBDESC.str.contains('Temporary')), 'CONTRACTOR'] = 'Self'\n",
    "df.loc[(df['CONTRACTOR'].isnull()) & (df.SUBDESC.str.contains('Sprinkler')), 'CONTRACTOR'] = 'Self'\n",
    "df.loc[(df['CONTRACTOR'].isnull()) & (df.SUBDESC.str.contains('Deck')), 'CONTRACTOR'] = 'Self'\n",
    "df.loc[(df['CONTRACTOR'].isnull()) & (df.SUBDESC.str.contains('Relocation')), 'CONTRACTOR'] = 'Self'\n",
    "df.loc[(df['CONTRACTOR'].isnull()) & (df.SUBDESC.str.contains('School')), 'CONTRACTOR'] = 'Self'\n",
    "df.loc[(df['CONTRACTOR'].isnull()) & (df.SUBDESC.str.contains('Class')), 'CONTRACTOR'] = 'Self'\n",
    "df.loc[(df['CONTRACTOR'].isnull()) & (df.SUBDESC.str.contains('Permanent')), 'CONTRACTOR'] = 'Self'\n",
    "df.loc[(df['CONTRACTOR'].isnull()) & (df.SUBDESC.str.contains('Accessory')), 'CONTRACTOR'] = 'Self'\n",
    "df.loc[(df['CONTRACTOR'].isnull()) & (df.SUBDESC.str.contains('Garage')), 'CONTRACTOR'] = 'Self'\n",
    "df.loc[(df['CONTRACTOR'].isnull()) & (df.SUBDESC.str.contains('Service')), 'CONTRACTOR'] = 'Self'\n",
    "df.loc[(df['CONTRACTOR'].isnull()) & (df.SUBDESC.str.contains('Services')), 'CONTRACTOR'] = 'Self'\n",
    "df.loc[(df['CONTRACTOR'].isnull()) & (df.SUBDESC.str.contains('Solar')), 'CONTRACTOR'] = 'Self'\n",
    "df.loc[(df['CONTRACTOR'].isnull()) & (df.SUBDESC.str.contains('Trailer')), 'CONTRACTOR'] = 'Self'"
   ]
  },
  {
   "cell_type": "code",
   "execution_count": 27,
   "metadata": {},
   "outputs": [],
   "source": [
    "#Adding 'Self' in place of missing values based on Workdesc of work performed\n",
    "df.loc[(df['CONTRACTOR'].isnull()) & (df.WORKDESC.str.contains('Finish')), 'CONTRACTOR'] = 'Self'\n",
    "df.loc[(df['CONTRACTOR'].isnull()) & (df.WORKDESC.str.contains('Addition')), 'CONTRACTOR'] = 'Self'\n",
    "df.loc[(df['CONTRACTOR'].isnull()) & (df.WORKDESC.str.contains('Wood')), 'CONTRACTOR'] = 'Self'\n",
    "df.loc[(df['CONTRACTOR'].isnull()) & (df.WORKDESC.str.contains('Chain')), 'CONTRACTOR'] = 'Self'\n",
    "df.loc[(df['CONTRACTOR'].isnull()) & (df.WORKDESC.str.contains('Wrought')), 'CONTRACTOR'] = 'Self'\n",
    "df.loc[(df['CONTRACTOR'].isnull()) & (df.WORKDESC.str.contains('Shell')), 'CONTRACTOR'] = 'Self'\n",
    "df.loc[(df['CONTRACTOR'].isnull()) & (df.WORKDESC.str.contains('Permit')), 'CONTRACTOR'] = 'Self'\n",
    "df.loc[(df['CONTRACTOR'].isnull()) & (df.WORKDESC.str.contains('Demolition')), 'CONTRACTOR'] = 'Self'\n",
    "df.loc[(df['CONTRACTOR'].isnull()) & (df.WORKDESC.str.contains('Only')), 'CONTRACTOR'] = 'Self'\n",
    "df.loc[(df['CONTRACTOR'].isnull()) & (df.WORKDESC.str.contains('Other')), 'CONTRACTOR'] = 'Self'\n",
    "df.loc[(df['CONTRACTOR'].isnull()) & (df.WORKDESC.str.contains('Renovation')), 'CONTRACTOR'] = 'Self'\n",
    "df.loc[(df['CONTRACTOR'].isnull()) & (df.WORKDESC.str.contains('Unit')), 'CONTRACTOR'] = 'Self'\n",
    "df.loc[(df['CONTRACTOR'].isnull()) & (df.WORKDESC.str.contains('Revision')), 'CONTRACTOR'] = 'Self'"
   ]
  },
  {
   "cell_type": "code",
   "execution_count": 28,
   "metadata": {},
   "outputs": [
    {
     "data": {
      "text/plain": [
       "PERMITNUMBER       0\n",
       "ADDRESS            4\n",
       "SUBDESC            0\n",
       "WORKDESC           0\n",
       "STATUSDESC         0\n",
       "ISSUEDATE          0\n",
       "INDATE             3\n",
       "CONTRACTOR      1196\n",
       "X                  0\n",
       "Y                  0\n",
       "GIS_ID             0\n",
       "dtype: int64"
      ]
     },
     "execution_count": 28,
     "metadata": {},
     "output_type": "execute_result"
    }
   ],
   "source": [
    "#Number of missing values\n",
    "df.isnull().sum()"
   ]
  },
  {
   "cell_type": "code",
   "execution_count": 29,
   "metadata": {},
   "outputs": [],
   "source": [
    "#Dropping the rest of the null values since we cant do anything about them\n",
    "df = df.dropna(subset = ['CONTRACTOR'])\n",
    "df = df.dropna(subset = ['INDATE'])\n",
    "df = df.dropna(subset = ['ADDRESS'])"
   ]
  },
  {
   "cell_type": "code",
   "execution_count": 30,
   "metadata": {},
   "outputs": [
    {
     "data": {
      "text/plain": [
       "PERMITNUMBER    0\n",
       "ADDRESS         0\n",
       "SUBDESC         0\n",
       "WORKDESC        0\n",
       "STATUSDESC      0\n",
       "ISSUEDATE       0\n",
       "INDATE          0\n",
       "CONTRACTOR      0\n",
       "X               0\n",
       "Y               0\n",
       "GIS_ID          0\n",
       "dtype: int64"
      ]
     },
     "execution_count": 30,
     "metadata": {},
     "output_type": "execute_result"
    }
   ],
   "source": [
    "#Dataframe is clean\n",
    "df.isnull().sum()"
   ]
  },
  {
   "cell_type": "code",
   "execution_count": 31,
   "metadata": {},
   "outputs": [
    {
     "data": {
      "text/html": [
       "<div>\n",
       "<style scoped>\n",
       "    .dataframe tbody tr th:only-of-type {\n",
       "        vertical-align: middle;\n",
       "    }\n",
       "\n",
       "    .dataframe tbody tr th {\n",
       "        vertical-align: top;\n",
       "    }\n",
       "\n",
       "    .dataframe thead th {\n",
       "        text-align: right;\n",
       "    }\n",
       "</style>\n",
       "<table border=\"1\" class=\"dataframe\">\n",
       "  <thead>\n",
       "    <tr style=\"text-align: right;\">\n",
       "      <th></th>\n",
       "      <th>PERMITNUMBER</th>\n",
       "      <th>ADDRESS</th>\n",
       "      <th>SUBDESC</th>\n",
       "      <th>WORKDESC</th>\n",
       "      <th>STATUSDESC</th>\n",
       "      <th>ISSUEDATE</th>\n",
       "      <th>INDATE</th>\n",
       "      <th>CONTRACTOR</th>\n",
       "      <th>X</th>\n",
       "      <th>Y</th>\n",
       "      <th>GIS_ID</th>\n",
       "    </tr>\n",
       "  </thead>\n",
       "  <tbody>\n",
       "    <tr>\n",
       "      <td>0</td>\n",
       "      <td>01-121747-000-00</td>\n",
       "      <td>137 Fairhill Ave, Brampton, ON,</td>\n",
       "      <td>Single Family Detached</td>\n",
       "      <td>New Complete Building</td>\n",
       "      <td>Closed</td>\n",
       "      <td>2001-12-13</td>\n",
       "      <td>2001-11-30</td>\n",
       "      <td>1113669 ONTARIO LIMITED</td>\n",
       "      <td>-79.820498</td>\n",
       "      <td>43.689158</td>\n",
       "      <td>100753</td>\n",
       "    </tr>\n",
       "    <tr>\n",
       "      <td>1</td>\n",
       "      <td>01-120328-000-00</td>\n",
       "      <td>135 Fairhill Ave, Brampton, ON,</td>\n",
       "      <td>Single Family Detached</td>\n",
       "      <td>New Complete Building</td>\n",
       "      <td>Closed</td>\n",
       "      <td>2001-12-07</td>\n",
       "      <td>2001-10-10</td>\n",
       "      <td>1113669 ONTARIO LIMITED</td>\n",
       "      <td>-79.820524</td>\n",
       "      <td>43.689064</td>\n",
       "      <td>100754</td>\n",
       "    </tr>\n",
       "    <tr>\n",
       "      <td>2</td>\n",
       "      <td>01-120329-000-00</td>\n",
       "      <td>133 Fairhill Ave, Brampton, ON,</td>\n",
       "      <td>Single Family Detached</td>\n",
       "      <td>New Complete Building</td>\n",
       "      <td>Closed</td>\n",
       "      <td>2001-12-07</td>\n",
       "      <td>2001-10-10</td>\n",
       "      <td>1113669 ONTARIO LIMITED</td>\n",
       "      <td>-79.820531</td>\n",
       "      <td>43.688958</td>\n",
       "      <td>100755</td>\n",
       "    </tr>\n",
       "    <tr>\n",
       "      <td>3</td>\n",
       "      <td>02-126584-000-00</td>\n",
       "      <td>131 Fairhill Ave, Brampton, ON,</td>\n",
       "      <td>Single Family Detached</td>\n",
       "      <td>New Complete Building</td>\n",
       "      <td>Closed</td>\n",
       "      <td>2002-06-20</td>\n",
       "      <td>2002-05-30</td>\n",
       "      <td>1113669 ONTARIO LIMITED</td>\n",
       "      <td>-79.820545</td>\n",
       "      <td>43.688867</td>\n",
       "      <td>100756</td>\n",
       "    </tr>\n",
       "    <tr>\n",
       "      <td>4</td>\n",
       "      <td>03-143093-000-00</td>\n",
       "      <td>131 Fairhill Ave, Brampton, ON,</td>\n",
       "      <td>Single Family Detached</td>\n",
       "      <td>Revision</td>\n",
       "      <td>Closed</td>\n",
       "      <td>2003-04-04</td>\n",
       "      <td>2003-04-03</td>\n",
       "      <td>Self</td>\n",
       "      <td>-79.820545</td>\n",
       "      <td>43.688867</td>\n",
       "      <td>100756</td>\n",
       "    </tr>\n",
       "  </tbody>\n",
       "</table>\n",
       "</div>"
      ],
      "text/plain": [
       "       PERMITNUMBER                           ADDRESS                 SUBDESC  \\\n",
       "0  01-121747-000-00  137 Fairhill Ave, Brampton, ON,   Single Family Detached   \n",
       "1  01-120328-000-00  135 Fairhill Ave, Brampton, ON,   Single Family Detached   \n",
       "2  01-120329-000-00  133 Fairhill Ave, Brampton, ON,   Single Family Detached   \n",
       "3  02-126584-000-00  131 Fairhill Ave, Brampton, ON,   Single Family Detached   \n",
       "4  03-143093-000-00  131 Fairhill Ave, Brampton, ON,   Single Family Detached   \n",
       "\n",
       "                WORKDESC STATUSDESC  ISSUEDATE     INDATE  \\\n",
       "0  New Complete Building     Closed 2001-12-13 2001-11-30   \n",
       "1  New Complete Building     Closed 2001-12-07 2001-10-10   \n",
       "2  New Complete Building     Closed 2001-12-07 2001-10-10   \n",
       "3  New Complete Building     Closed 2002-06-20 2002-05-30   \n",
       "4               Revision     Closed 2003-04-04 2003-04-03   \n",
       "\n",
       "                 CONTRACTOR          X          Y  GIS_ID  \n",
       "0  1113669 ONTARIO LIMITED  -79.820498  43.689158  100753  \n",
       "1  1113669 ONTARIO LIMITED  -79.820524  43.689064  100754  \n",
       "2  1113669 ONTARIO LIMITED  -79.820531  43.688958  100755  \n",
       "3  1113669 ONTARIO LIMITED  -79.820545  43.688867  100756  \n",
       "4                      Self -79.820545  43.688867  100756  "
      ]
     },
     "execution_count": 31,
     "metadata": {},
     "output_type": "execute_result"
    }
   ],
   "source": [
    "df.head()"
   ]
  },
  {
   "cell_type": "code",
   "execution_count": 33,
   "metadata": {},
   "outputs": [],
   "source": [
    "#Generating CSV file with the cleaned data\n",
    "df.to_csv('BuildingPermitsBramptonCleaned.csv', encoding='utf-8', index=False)"
   ]
  }
 ],
 "metadata": {
  "kernelspec": {
   "display_name": "Python 3",
   "language": "python",
   "name": "python3"
  },
  "language_info": {
   "codemirror_mode": {
    "name": "ipython",
    "version": 3
   },
   "file_extension": ".py",
   "mimetype": "text/x-python",
   "name": "python",
   "nbconvert_exporter": "python",
   "pygments_lexer": "ipython3",
   "version": "3.7.4"
  }
 },
 "nbformat": 4,
 "nbformat_minor": 2
}
